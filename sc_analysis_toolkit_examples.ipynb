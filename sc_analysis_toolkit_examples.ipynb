{
 "cells": [
  {
   "cell_type": "code",
   "metadata": {
    "pycharm": {
     "name": "#%%\n"
    }
   },
   "source": [
    "%pip install pandas\n",
    "%pip install skillcorner\n",
    "%pip install git+https://github.com/liamMichaelBailey/skillcorner_analysis_toolkit.git"
   ],
   "execution_count": null,
   "outputs": []
  },
  {
   "cell_type": "code",
   "execution_count": null,
   "metadata": {
    "pycharm": {
     "name": "#%%\n"
    }
   },
   "outputs": [],
   "source": [
    "import pandas as pd\n",
    "from skillcorner.client import SkillcornerClient\n",
    "from skillcorner_analysis_toolkit.skillcorner_plots import plot_bar_chart, plot_scatter, plot_swarm_violin\n",
    "from skillcorner_analysis_toolkit.skillcorner_normalisations import get_per_30_tip, get_per_100\n",
    "from skillcorner_analysis_toolkit.constants import *"
   ]
  },
  {
   "cell_type": "code",
   "execution_count": null,
   "metadata": {
    "pycharm": {
     "name": "#%%\n"
    }
   },
   "outputs": [],
   "source": [
    "USERNAME = ''\n",
    "PASSWORD = ''\n",
    "client = SkillcornerClient(username=USERNAME, password=PASSWORD)\n",
    "df = pd.DataFrame(client.get_in_possession_off_ball_runs(params={'run_type': ','.join(REQUEST_RUN_TYPES),\n",
    "                                                                 'season': 21,\n",
    "                                                                 'competition': 1,\n",
    "                                                                 'count_match__gte': 8,\n",
    "                                                                 'playing_time__gte': 60,\n",
    "                                                                 'group_by': 'player,team,competition,group,position',\n",
    "                                                                 'average_per': 'match'}))"
   ]
  },
  {
   "cell_type": "code",
   "execution_count": null,
   "outputs": [],
   "source": [
    "df.head()"
   ],
   "metadata": {
    "collapsed": false,
    "pycharm": {
     "name": "#%%\n"
    }
   }
  },
  {
   "cell_type": "code",
   "execution_count": null,
   "outputs": [],
   "source": [
    "df['count_runs_per_30_tip'] = get_per_30_tip(df, 'count_runs_per_match')\n",
    "\n",
    "fig, ax = plot_bar_chart(df=df[df['position'] == 'CF'],\n",
    "                         x_metric='count_runs_per_30_tip',\n",
    "                         x_label='Number Of Off-Ball Runs P30 TIP',\n",
    "                         primary_highlight_group=['Roberto Firmino',\n",
    "                                            'Darwin Nunez',\n",
    "                                            'Cody Gakpo'])\n",
    "\n",
    "fig.savefig('center_forward_run_volume.png', format='png', dpi=300)"
   ],
   "metadata": {
    "collapsed": false,
    "pycharm": {
     "name": "#%%\n"
    }
   }
  },
  {
   "cell_type": "code",
   "execution_count": null,
   "metadata": {
    "pycharm": {
     "name": "#%%\n"
    }
   },
   "outputs": [],
   "source": [
    "df['count_cross_receiver_runs_per_30_tip'] = get_per_30_tip(df, 'count_cross_receiver_runs_per_match')\n",
    "df['count_runs_in_behind_per_30_tip'] = get_per_30_tip(df, 'count_runs_in_behind_per_match')\n",
    "\n",
    "fig, ax = plot_scatter(df=df[df['position'] == 'CF'],\n",
    "                       x_metric='count_runs_in_behind_per_30_tip',\n",
    "                       y_metric='count_cross_receiver_runs_per_30_tip',\n",
    "                       x_label='Number Of Runs In behind P30 TIP',\n",
    "                       y_label='Number Of Coming Short Runs P30 TIP',\n",
    "                       x_sd_highlight=.5,\n",
    "                       y_sd_highlight=.5,\n",
    "                       primary_highlight_group=['Roberto Firmino',\n",
    "                                            'Darwin Nunez',\n",
    "                                            'Cody Gakpo'])\n",
    "\n",
    "fig.savefig('center_forward_run_profile.png', format='png', dpi=300, transparent=False, facecolor='w')"
   ]
  },
  {
   "cell_type": "code",
   "execution_count": null,
   "metadata": {
    "pycharm": {
     "name": "#%%\n"
    }
   },
   "outputs": [],
   "source": [
    "df['threat_per_100_cross_receiver_runs'] = get_per_100(df=df,\n",
    "                                                       metric_per_match='cross_receiver_runs_threat_per_match',\n",
    "                                                       adjustment_metric_per_match='count_cross_receiver_runs_per_match')\n",
    "\n",
    "df['threat_per_100_runs_in_behind'] = get_per_100(df=df,\n",
    "                                                       metric_per_match='runs_in_behind_threat_per_match',\n",
    "                                                       adjustment_metric_per_match='count_runs_in_behind_per_match')\n",
    "\n",
    "df['threat_per_100_runs_ahead_of_the_ball'] = get_per_100(df=df,\n",
    "                                                       metric_per_match='runs_ahead_of_the_ball_threat_per_match',\n",
    "                                                       adjustment_metric_per_match='count_runs_ahead_of_the_ball_per_match')\n",
    "\n",
    "melted_df = df.melt(id_vars=[\"player_id\",\n",
    "                             \"player_name\",\n",
    "                             \"player_birthdate\",\n",
    "                             \"team_id\",\n",
    "                             \"team_name\",\n",
    "                             \"competition_id\",\n",
    "                             \"competition_name\",\n",
    "                             \"group\",\n",
    "                             \"position\",\n",
    "                             \"third\",\n",
    "                             \"channel\",\n",
    "                             \"minutes_played_per_match\",\n",
    "                             \"count_match\",\n",
    "                             \"count_match_failed\"],\n",
    "                    var_name=\"metric\",\n",
    "                    value_name=\"value\")\n",
    "\n",
    "x_value = 'value'  # This should remain as 'value'.\n",
    "y_value = 'metric'  # This should remain as 'metric'."
   ]
  },
  {
   "cell_type": "code",
   "execution_count": null,
   "outputs": [],
   "source": [
    "melted_df.head()"
   ],
   "metadata": {
    "collapsed": false,
    "pycharm": {
     "name": "#%%\n"
    }
   }
  },
  {
   "cell_type": "code",
   "execution_count": null,
   "outputs": [],
   "source": [
    "fig, ax = plot_swarm_violin(df=melted_df[melted_df['position'] == 'CF'],\n",
    "                      x_metric=x_value,\n",
    "                      y_metric=y_value,\n",
    "                      y_groups=['threat_per_100_cross_receiver_runs',\n",
    "                                'threat_per_100_runs_in_behind',\n",
    "                                'threat_per_100_runs_ahead_of_the_ball'],\n",
    "                      x_label='Threat P100 Off-Ball Runs',\n",
    "                      y_group_labels=['Cross Receiver Runs',\n",
    "                                      'Runs In Behind',\n",
    "                                      'Runs Ahead Of The Ball'],\n",
    "                      primary_highlight_group=['Roberto Firmino',\n",
    "                                               'Darwin Nunez',\n",
    "                                               'Cody Gakpo'])\n",
    "\n",
    "fig.savefig('center_forward_run_threat.png', format='png', dpi=300, transparent=False, facecolor='w')"
   ],
   "metadata": {
    "collapsed": false,
    "pycharm": {
     "name": "#%%\n"
    }
   }
  }
 ],
 "metadata": {
  "kernelspec": {
   "display_name": "Python 3 (ipykernel)",
   "language": "python",
   "name": "python3"
  },
  "language_info": {
   "codemirror_mode": {
    "name": "ipython",
    "version": 3
   },
   "file_extension": ".py",
   "mimetype": "text/x-python",
   "name": "python",
   "nbconvert_exporter": "python",
   "pygments_lexer": "ipython3",
   "version": "3.9.13"
  }
 },
 "nbformat": 4,
 "nbformat_minor": 1
}